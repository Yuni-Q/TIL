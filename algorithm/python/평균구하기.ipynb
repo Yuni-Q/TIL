{
 "cells": [
  {
   "cell_type": "markdown",
   "metadata": {},
   "source": [
    "평균구하기 Level 1\n",
    "함수를 완성해서 매개변수 array의 평균값을 return하도록 만들어 보세요.\n",
    "어떠한 크기의 array가 와도 평균값을 구할 수 있어야 합니다."
   ]
  },
  {
   "cell_type": "code",
   "execution_count": 6,
   "metadata": {},
   "outputs": [
    {
     "name": "stdout",
     "output_type": "stream",
     "text": [
      "평균값 : 4\n"
     ]
    }
   ],
   "source": [
    "def average(array):\n",
    "    # 함수를 완성해서 매개변수 array의 평균값을 return하도록 만들어 보세요.\n",
    "    result = 0\n",
    "    i = 0\n",
    "    for x in array:\n",
    "        result = result + x\n",
    "        i = i + 1\n",
    "    result = result / i \n",
    "    return result\n",
    "\n",
    "# 아래는 테스트로 출력해 보기 위한 코드입니다.\n",
    "list = [5,3,4] \n",
    "print(\"평균값 : {}\".format(average(list)));"
   ]
  },
  {
   "cell_type": "code",
   "execution_count": null,
   "metadata": {
    "collapsed": true
   },
   "outputs": [],
   "source": [
    "def average(list):\n",
    "    return (sum(list) / len(list))\n",
    "\n",
    "# 아래는 테스트로 출력해 보기 위한 코드입니다.\n",
    "list = [5,3,4] \n",
    "print(\"평균값 : {}\".format(average(list)));"
   ]
  }
 ],
 "metadata": {
  "kernelspec": {
   "display_name": "Python 3",
   "language": "python",
   "name": "python3"
  },
  "language_info": {
   "codemirror_mode": {
    "name": "ipython",
    "version": 3
   },
   "file_extension": ".py",
   "mimetype": "text/x-python",
   "name": "python",
   "nbconvert_exporter": "python",
   "pygments_lexer": "ipython3",
   "version": "3.6.3"
  }
 },
 "nbformat": 4,
 "nbformat_minor": 2
}
